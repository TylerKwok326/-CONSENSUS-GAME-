{
 "cells": [
  {
   "cell_type": "code",
   "execution_count": null,
   "id": "5cdfffad-6062-4835-b04f-d9b50f68b567",
   "metadata": {},
   "outputs": [],
   "source": []
  }
 ],
 "metadata": {
  "kernelspec": {
   "display_name": "",
   "name": ""
  },
  "language_info": {
   "name": ""
  }
 },
 "nbformat": 4,
 "nbformat_minor": 5
}
